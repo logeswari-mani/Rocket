{
 "cells": [
  {
   "cell_type": "markdown",
   "id": "bdfb469b",
   "metadata": {},
   "source": [
    "# ROCKET"
   ]
  },
  {
   "cell_type": "code",
   "execution_count": 1,
   "id": "c7d18eab",
   "metadata": {},
   "outputs": [],
   "source": [
    "import pandas as pd\n",
    "import matplotlib.pyplot as plt\n",
    "from sklearn.model_selection import train_test_split\n",
    "from sklearn.ensemble import RandomForestRegressor\n",
    "from sklearn.ensemble import GradientBoostingClassifier\n",
    "from sklearn.preprocessing import MinMaxScaler\n",
    "from sklearn.linear_model import LinearRegression\n",
    "from sklearn.tree import DecisionTreeRegressor\n",
    "from sklearn.ensemble import AdaBoostRegressor\n",
    "from sklearn.ensemble import GradientBoostingRegressor\n",
    "from sklearn.tree import DecisionTreeClassifier\n"
   ]
  },
  {
   "cell_type": "code",
   "execution_count": 2,
   "id": "a30e7515",
   "metadata": {},
   "outputs": [],
   "source": [
    "data = pd.read_csv(\"https://docs.google.com/spreadsheets/d/18mzp6f9xZm0J4rfoAuJ_Xu-gzVDjjkc1oMTMW10QGEQ/gviz/tq?tqx=out:csv&sheet=Flight\")\n"
   ]
  },
  {
   "cell_type": "code",
   "execution_count": 3,
   "id": "37b7e5e8",
   "metadata": {},
   "outputs": [
    {
     "data": {
      "text/html": [
       "<div>\n",
       "<style scoped>\n",
       "    .dataframe tbody tr th:only-of-type {\n",
       "        vertical-align: middle;\n",
       "    }\n",
       "\n",
       "    .dataframe tbody tr th {\n",
       "        vertical-align: top;\n",
       "    }\n",
       "\n",
       "    .dataframe thead th {\n",
       "        text-align: right;\n",
       "    }\n",
       "</style>\n",
       "<table border=\"1\" class=\"dataframe\">\n",
       "  <thead>\n",
       "    <tr style=\"text-align: right;\">\n",
       "      <th></th>\n",
       "      <th>Person</th>\n",
       "      <th>Item_Identifier</th>\n",
       "      <th>Length</th>\n",
       "      <th>Breadth</th>\n",
       "      <th>PaperQuality</th>\n",
       "      <th>Angle</th>\n",
       "      <th>Foldings</th>\n",
       "      <th>Windspeed</th>\n",
       "      <th>Dominanthand</th>\n",
       "      <th>Distance</th>\n",
       "    </tr>\n",
       "  </thead>\n",
       "  <tbody>\n",
       "    <tr>\n",
       "      <th>0</th>\n",
       "      <td>Kevin</td>\n",
       "      <td>Som</td>\n",
       "      <td>29.0</td>\n",
       "      <td>20.0</td>\n",
       "      <td>A</td>\n",
       "      <td>U</td>\n",
       "      <td>8</td>\n",
       "      <td>On</td>\n",
       "      <td>L</td>\n",
       "      <td>5</td>\n",
       "    </tr>\n",
       "    <tr>\n",
       "      <th>1</th>\n",
       "      <td>Kevin</td>\n",
       "      <td>kevin</td>\n",
       "      <td>23.0</td>\n",
       "      <td>16.0</td>\n",
       "      <td>B</td>\n",
       "      <td>U</td>\n",
       "      <td>8</td>\n",
       "      <td>On</td>\n",
       "      <td>L</td>\n",
       "      <td>5</td>\n",
       "    </tr>\n",
       "    <tr>\n",
       "      <th>2</th>\n",
       "      <td>Kevin</td>\n",
       "      <td>RR</td>\n",
       "      <td>NaN</td>\n",
       "      <td>18.0</td>\n",
       "      <td>A</td>\n",
       "      <td>L</td>\n",
       "      <td>10</td>\n",
       "      <td>On</td>\n",
       "      <td>R</td>\n",
       "      <td>6</td>\n",
       "    </tr>\n",
       "    <tr>\n",
       "      <th>3</th>\n",
       "      <td>Priya</td>\n",
       "      <td>Nithya</td>\n",
       "      <td>27.0</td>\n",
       "      <td>20.0</td>\n",
       "      <td>A</td>\n",
       "      <td>U</td>\n",
       "      <td>10</td>\n",
       "      <td>On</td>\n",
       "      <td>R</td>\n",
       "      <td>4</td>\n",
       "    </tr>\n",
       "    <tr>\n",
       "      <th>4</th>\n",
       "      <td>Priya</td>\n",
       "      <td>Priya</td>\n",
       "      <td>29.5</td>\n",
       "      <td>17.5</td>\n",
       "      <td>B</td>\n",
       "      <td>U</td>\n",
       "      <td>5</td>\n",
       "      <td>Off</td>\n",
       "      <td>R</td>\n",
       "      <td>8</td>\n",
       "    </tr>\n",
       "  </tbody>\n",
       "</table>\n",
       "</div>"
      ],
      "text/plain": [
       "  Person Item_Identifier  Length  Breadth PaperQuality Angle  Foldings  \\\n",
       "0  Kevin             Som    29.0     20.0            A     U         8   \n",
       "1  Kevin           kevin    23.0     16.0            B     U         8   \n",
       "2  Kevin              RR     NaN     18.0            A     L        10   \n",
       "3  Priya          Nithya    27.0     20.0            A     U        10   \n",
       "4  Priya           Priya    29.5     17.5            B     U         5   \n",
       "\n",
       "  Windspeed  Dominanthand  Distance  \n",
       "0         On            L         5  \n",
       "1         On            L         5  \n",
       "2         On            R         6  \n",
       "3         On            R         4  \n",
       "4        Off            R         8  "
      ]
     },
     "execution_count": 3,
     "metadata": {},
     "output_type": "execute_result"
    }
   ],
   "source": [
    "data.head()"
   ]
  },
  {
   "cell_type": "code",
   "execution_count": 4,
   "id": "2e1d9291",
   "metadata": {},
   "outputs": [
    {
     "data": {
      "text/plain": [
       "Person              0\n",
       "Item_Identifier     0\n",
       "Length             17\n",
       "Breadth             0\n",
       "PaperQuality        8\n",
       "Angle               4\n",
       "Foldings            0\n",
       "Windspeed           0\n",
       "Dominanthand        0\n",
       "Distance            0\n",
       "dtype: int64"
      ]
     },
     "execution_count": 4,
     "metadata": {},
     "output_type": "execute_result"
    }
   ],
   "source": [
    "data.isnull().sum()"
   ]
  },
  {
   "cell_type": "code",
   "execution_count": 5,
   "id": "0760d939",
   "metadata": {},
   "outputs": [
    {
     "data": {
      "text/plain": [
       "{'whiskers': [<matplotlib.lines.Line2D at 0x24ae432e220>,\n",
       "  <matplotlib.lines.Line2D at 0x24ae432e4f0>],\n",
       " 'caps': [<matplotlib.lines.Line2D at 0x24ae432e880>,\n",
       "  <matplotlib.lines.Line2D at 0x24ae432ec10>],\n",
       " 'boxes': [<matplotlib.lines.Line2D at 0x24ae3c6ed90>],\n",
       " 'medians': [<matplotlib.lines.Line2D at 0x24ae432efa0>],\n",
       " 'fliers': [<matplotlib.lines.Line2D at 0x24ae433a370>],\n",
       " 'means': []}"
      ]
     },
     "execution_count": 5,
     "metadata": {},
     "output_type": "execute_result"
    },
    {
     "data": {
      "image/png": "[encoded data removed]",
      "text/plain": [
       "<Figure size 432x288 with 1 Axes>"
      ]
     },
     "metadata": {
      "needs_background": "light"
     },
     "output_type": "display_data"
    }
   ],
   "source": [
    "plt.boxplot(data.Length.dropna())"
   ]
  },
  {
   "cell_type": "code",
   "execution_count": 6,
   "id": "f533dc90",
   "metadata": {},
   "outputs": [],
   "source": [
    "data.Length.fillna(data.Length.median(),inplace=True)"
   ]
  },
  {
   "cell_type": "code",
   "execution_count": 7,
   "id": "b33e74cb",
   "metadata": {},
   "outputs": [
    {
     "data": {
      "text/plain": [
       "29.5"
      ]
     },
     "execution_count": 7,
     "metadata": {},
     "output_type": "execute_result"
    }
   ],
   "source": [
    "q3 = data.Length.quantile(0.75)\n",
    "q3"
   ]
  },
  {
   "cell_type": "code",
   "execution_count": 8,
   "id": "39aa2c73",
   "metadata": {},
   "outputs": [
    {
     "data": {
      "text/plain": [
       "24.5"
      ]
     },
     "execution_count": 8,
     "metadata": {},
     "output_type": "execute_result"
    }
   ],
   "source": [
    "q1 = data.Length.quantile(0.25)\n",
    "q1"
   ]
  },
  {
   "cell_type": "code",
   "execution_count": 9,
   "id": "7a42f486",
   "metadata": {},
   "outputs": [
    {
     "data": {
      "text/plain": [
       "5.0"
      ]
     },
     "execution_count": 9,
     "metadata": {},
     "output_type": "execute_result"
    }
   ],
   "source": [
    "IQR = q3 - q1\n",
    "IQR"
   ]
  },
  {
   "cell_type": "code",
   "execution_count": 10,
   "id": "556b3c39",
   "metadata": {},
   "outputs": [
    {
     "data": {
      "text/plain": [
       "37.0"
      ]
     },
     "execution_count": 10,
     "metadata": {},
     "output_type": "execute_result"
    }
   ],
   "source": [
    "UE = q3 + (1.5 * IQR)\n",
    "UE"
   ]
  },
  {
   "cell_type": "code",
   "execution_count": 11,
   "id": "8e3f6bae",
   "metadata": {},
   "outputs": [
    {
     "data": {
      "text/plain": [
       "17.0"
      ]
     },
     "execution_count": 11,
     "metadata": {},
     "output_type": "execute_result"
    }
   ],
   "source": [
    "LE = q1 - (1.5 * IQR)\n",
    "LE"
   ]
  },
  {
   "cell_type": "code",
   "execution_count": 12,
   "id": "0a10ff52",
   "metadata": {},
   "outputs": [],
   "source": [
    "data1 = data[(data.Length <= UE) & (data.Length >= LE)]"
   ]
  },
  {
   "cell_type": "code",
   "execution_count": 13,
   "id": "e57e3c35",
   "metadata": {},
   "outputs": [
    {
     "data": {
      "text/plain": [
       "{'whiskers': [<matplotlib.lines.Line2D at 0x24ae44279d0>,\n",
       "  <matplotlib.lines.Line2D at 0x24ae4427d60>],\n",
       " 'caps': [<matplotlib.lines.Line2D at 0x24ae4433130>,\n",
       "  <matplotlib.lines.Line2D at 0x24ae4433430>],\n",
       " 'boxes': [<matplotlib.lines.Line2D at 0x24ae4427640>],\n",
       " 'medians': [<matplotlib.lines.Line2D at 0x24ae44337c0>],\n",
       " 'fliers': [<matplotlib.lines.Line2D at 0x24ae4433b50>],\n",
       " 'means': []}"
      ]
     },
     "execution_count": 13,
     "metadata": {},
     "output_type": "execute_result"
    },
    {
     "data": {
      "image/png": "[encoded data removed]",
      "text/plain": [
       "<Figure size 432x288 with 1 Axes>"
      ]
     },
     "metadata": {
      "needs_background": "light"
     },
     "output_type": "display_data"
    }
   ],
   "source": [
    "plt.boxplot(data1.Length)"
   ]
  },
  {
   "cell_type": "code",
   "execution_count": 14,
   "id": "bcd3a2c5",
   "metadata": {},
   "outputs": [],
   "source": [
    "data.Angle.fillna(data.Angle.mode().max(),inplace=True)"
   ]
  },
  {
   "cell_type": "code",
   "execution_count": 15,
   "id": "f36e5d80",
   "metadata": {},
   "outputs": [],
   "source": [
    "data.PaperQuality.fillna(\"others\",inplace=True)"
   ]
  },
  {
   "cell_type": "code",
   "execution_count": 16,
   "id": "fff27fef",
   "metadata": {},
   "outputs": [],
   "source": [
    "y = data.Distance\n",
    "x = data.iloc[0:,[2,3,4,5,6,7,8]]"
   ]
  },
  {
   "cell_type": "code",
   "execution_count": 17,
   "id": "8e490967",
   "metadata": {},
   "outputs": [
    {
     "data": {
      "text/html": [
       "<div>\n",
       "<style scoped>\n",
       "    .dataframe tbody tr th:only-of-type {\n",
       "        vertical-align: middle;\n",
       "    }\n",
       "\n",
       "    .dataframe tbody tr th {\n",
       "        vertical-align: top;\n",
       "    }\n",
       "\n",
       "    .dataframe thead th {\n",
       "        text-align: right;\n",
       "    }\n",
       "</style>\n",
       "<table border=\"1\" class=\"dataframe\">\n",
       "  <thead>\n",
       "    <tr style=\"text-align: right;\">\n",
       "      <th></th>\n",
       "      <th>Length</th>\n",
       "      <th>Breadth</th>\n",
       "      <th>PaperQuality</th>\n",
       "      <th>Angle</th>\n",
       "      <th>Foldings</th>\n",
       "      <th>Windspeed</th>\n",
       "      <th>Dominanthand</th>\n",
       "    </tr>\n",
       "  </thead>\n",
       "  <tbody>\n",
       "    <tr>\n",
       "      <th>0</th>\n",
       "      <td>29.0</td>\n",
       "      <td>20.0</td>\n",
       "      <td>A</td>\n",
       "      <td>U</td>\n",
       "      <td>8</td>\n",
       "      <td>On</td>\n",
       "      <td>L</td>\n",
       "    </tr>\n",
       "    <tr>\n",
       "      <th>1</th>\n",
       "      <td>23.0</td>\n",
       "      <td>16.0</td>\n",
       "      <td>B</td>\n",
       "      <td>U</td>\n",
       "      <td>8</td>\n",
       "      <td>On</td>\n",
       "      <td>L</td>\n",
       "    </tr>\n",
       "    <tr>\n",
       "      <th>2</th>\n",
       "      <td>28.5</td>\n",
       "      <td>18.0</td>\n",
       "      <td>A</td>\n",
       "      <td>L</td>\n",
       "      <td>10</td>\n",
       "      <td>On</td>\n",
       "      <td>R</td>\n",
       "    </tr>\n",
       "    <tr>\n",
       "      <th>3</th>\n",
       "      <td>27.0</td>\n",
       "      <td>20.0</td>\n",
       "      <td>A</td>\n",
       "      <td>U</td>\n",
       "      <td>10</td>\n",
       "      <td>On</td>\n",
       "      <td>R</td>\n",
       "    </tr>\n",
       "    <tr>\n",
       "      <th>4</th>\n",
       "      <td>29.5</td>\n",
       "      <td>17.5</td>\n",
       "      <td>B</td>\n",
       "      <td>U</td>\n",
       "      <td>5</td>\n",
       "      <td>Off</td>\n",
       "      <td>R</td>\n",
       "    </tr>\n",
       "  </tbody>\n",
       "</table>\n",
       "</div>"
      ],
      "text/plain": [
       "   Length  Breadth PaperQuality Angle  Foldings Windspeed  Dominanthand\n",
       "0    29.0     20.0            A     U         8         On            L\n",
       "1    23.0     16.0            B     U         8         On            L\n",
       "2    28.5     18.0            A     L        10         On            R\n",
       "3    27.0     20.0            A     U        10         On            R\n",
       "4    29.5     17.5            B     U         5        Off            R"
      ]
     },
     "execution_count": 17,
     "metadata": {},
     "output_type": "execute_result"
    }
   ],
   "source": [
    "x.head()"
   ]
  },
  {
   "cell_type": "code",
   "execution_count": 18,
   "id": "95ad7c37",
   "metadata": {},
   "outputs": [],
   "source": [
    "dummy = pd.get_dummies(x)"
   ]
  },
  {
   "cell_type": "code",
   "execution_count": 19,
   "id": "48c227fc",
   "metadata": {},
   "outputs": [],
   "source": [
    "scaler = MinMaxScaler()"
   ]
  },
  {
   "cell_type": "code",
   "execution_count": 20,
   "id": "84919766",
   "metadata": {},
   "outputs": [
    {
     "data": {
      "text/plain": [
       "MinMaxScaler()"
      ]
     },
     "execution_count": 20,
     "metadata": {},
     "output_type": "execute_result"
    }
   ],
   "source": [
    "scaler.fit(dummy)"
   ]
  },
  {
   "cell_type": "code",
   "execution_count": 21,
   "id": "2db412b0",
   "metadata": {},
   "outputs": [],
   "source": [
    "d = scaler.transform(dummy)"
   ]
  },
  {
   "cell_type": "code",
   "execution_count": 22,
   "id": "0a8b8502",
   "metadata": {},
   "outputs": [],
   "source": [
    "df = pd.DataFrame(d)"
   ]
  },
  {
   "cell_type": "code",
   "execution_count": 23,
   "id": "b17918f6",
   "metadata": {},
   "outputs": [],
   "source": [
    "trainx,testx = train_test_split(df,test_size = 0.2)\n",
    "trainy,testy = train_test_split(y,test_size = 0.2)"
   ]
  },
  {
   "cell_type": "code",
   "execution_count": 24,
   "id": "a2c7fbbe",
   "metadata": {},
   "outputs": [],
   "source": [
    "Decision = DecisionTreeRegressor(random_state=0)"
   ]
  },
  {
   "cell_type": "code",
   "execution_count": 25,
   "id": "7150fc78",
   "metadata": {},
   "outputs": [
    {
     "data": {
      "text/plain": [
       "DecisionTreeRegressor(random_state=0)"
      ]
     },
     "execution_count": 25,
     "metadata": {},
     "output_type": "execute_result"
    }
   ],
   "source": [
    "Decision.fit(trainx,trainy)"
   ]
  },
  {
   "cell_type": "code",
   "execution_count": 26,
   "id": "6520cd08",
   "metadata": {},
   "outputs": [
    {
     "data": {
      "text/plain": [
       "array([7.5       , 6.        , 6.        , 5.        , 5.75      ,\n",
       "       4.5       , 7.5       , 6.33333333, 6.75      , 5.        ,\n",
       "       7.5       , 6.        , 5.        , 6.66666667, 6.        ,\n",
       "       3.        , 6.66666667, 4.5       ])"
      ]
     },
     "execution_count": 26,
     "metadata": {},
     "output_type": "execute_result"
    }
   ],
   "source": [
    "Decision.predict(testx)"
   ]
  },
  {
   "cell_type": "code",
   "execution_count": 27,
   "id": "f572cd85",
   "metadata": {},
   "outputs": [
    {
     "data": {
      "text/plain": [
       "-0.9951512800620634"
      ]
     },
     "execution_count": 27,
     "metadata": {},
     "output_type": "execute_result"
    }
   ],
   "source": [
    "Decision.score(testx,testy)"
   ]
  },
  {
   "cell_type": "code",
   "execution_count": 28,
   "id": "3c7d6342",
   "metadata": {},
   "outputs": [],
   "source": [
    " Linear = LinearRegression()"
   ]
  },
  {
   "cell_type": "code",
   "execution_count": 29,
   "id": "6f9b21a1",
   "metadata": {},
   "outputs": [
    {
     "data": {
      "text/plain": [
       "LinearRegression()"
      ]
     },
     "execution_count": 29,
     "metadata": {},
     "output_type": "execute_result"
    }
   ],
   "source": [
    "Linear.fit(trainx,trainy)"
   ]
  },
  {
   "cell_type": "code",
   "execution_count": 30,
   "id": "5aa2e078",
   "metadata": {},
   "outputs": [
    {
     "data": {
      "text/plain": [
       "array([7.17415781, 6.14958279, 6.14958279, 4.60570677, 6.78280404,\n",
       "       4.33508782, 6.73577096, 4.93969693, 5.94217035, 4.60570677,\n",
       "       6.73577096, 7.15729825, 4.60570677, 6.74134789, 7.15729825,\n",
       "       4.94190847, 6.42627376, 4.33508782])"
      ]
     },
     "execution_count": 30,
     "metadata": {},
     "output_type": "execute_result"
    }
   ],
   "source": [
    "Linear.predict(testx)"
   ]
  },
  {
   "cell_type": "code",
   "execution_count": 31,
   "id": "7f8b546b",
   "metadata": {},
   "outputs": [
    {
     "data": {
      "text/plain": [
       "-0.7160579587393643"
      ]
     },
     "execution_count": 31,
     "metadata": {},
     "output_type": "execute_result"
    }
   ],
   "source": [
    "Linear.score(testx,testy)"
   ]
  },
  {
   "cell_type": "code",
   "execution_count": 32,
   "id": "76d74a09",
   "metadata": {},
   "outputs": [],
   "source": [
    "Tree = DecisionTreeClassifier(random_state=0).fit(trainx,trainy)"
   ]
  },
  {
   "cell_type": "code",
   "execution_count": 33,
   "id": "07282139",
   "metadata": {},
   "outputs": [
    {
     "data": {
      "text/plain": [
       "0.1111111111111111"
      ]
     },
     "execution_count": 33,
     "metadata": {},
     "output_type": "execute_result"
    }
   ],
   "source": [
    "Tree.score(testx,testy)"
   ]
  },
  {
   "cell_type": "code",
   "execution_count": 34,
   "id": "4c227bb3",
   "metadata": {},
   "outputs": [
    {
     "data": {
      "text/plain": [
       "array([6, 5, 5, 4, 6, 3, 5, 5, 5, 4, 5, 6, 4, 5, 6, 4, 6, 3], dtype=int64)"
      ]
     },
     "execution_count": 34,
     "metadata": {},
     "output_type": "execute_result"
    }
   ],
   "source": [
    "Tree.predict(testx)"
   ]
  }
 ],
 "metadata": {
  "kernelspec": {
   "display_name": "Python 3 (ipykernel)",
   "language": "python",
   "name": "python3"
  },
  "language_info": {
   "codemirror_mode": {
    "name": "ipython",
    "version": 3
   },
   "file_extension": ".py",
   "mimetype": "text/x-python",
   "name": "python",
   "nbconvert_exporter": "python",
   "pygments_lexer": "ipython3",
   "version": "3.9.7"
  }
 },
 "nbformat": 4,
 "nbformat_minor": 5
}
